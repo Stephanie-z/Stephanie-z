{
  "cells": [
    {
      "cell_type": "markdown",
      "metadata": {
        "id": "view-in-github",
        "colab_type": "text"
      },
      "source": [
        "<a href=\"https://colab.research.google.com/github/Stephanie-z/Stephanie-z/blob/main/AlgorimoMemeticoProblemaCaixeiroViajante.ipynb\" target=\"_parent\"><img src=\"https://colab.research.google.com/assets/colab-badge.svg\" alt=\"Open In Colab\"/></a>"
      ]
    },
    {
      "cell_type": "markdown",
      "metadata": {
        "id": "qB-D3ey705en"
      },
      "source": [
        "\n",
        "<h2 align=\"right\"> Algoritmo Memético para o Problema do Caixeiro Viajante </h2>\n",
        "\n",
        "---"
      ]
    },
    {
      "cell_type": "markdown",
      "metadata": {
        "id": "cRWj9Fvt5neD"
      },
      "source": [
        "**Pseudo Código**\n",
        "\n",
        "\n",
        "---\n",
        "\n",
        "<br>\n",
        "\n",
        "Procedimento do Algoritmo Genético Simples\n",
        "\n",
        "1. Inicialize a população Pop;\n",
        "2. Avalie cada indivíduo;\n",
        "3. Repita até que um critério de termino seja satisfeito (laço das gerações):\n",
        "  1. Selecione os pais;\n",
        "  2. Recombine para produzir os filhos;\n",
        "  3. Realize um processo de mutação;\n",
        "  4. Avalie os indivíduos\n",
        "  5. Selecione os indivíduos para a próxima geração\n",
        "4. Fim\n",
        "\n",
        "\n",
        "---\n",
        "\n",
        "<br>\n",
        "\n",
        "Procedimento do Algoritmo Memético \n",
        "\n",
        "1. Inicialize a população Pop;\n",
        "2. Avalie cada indivíduo;\n",
        "3. Realize um procedimento de otimização em cada indivíduo de Pop;\n",
        "4. Repita até que um critério de termino seja satisfeito (laço das gerações):\n",
        "  1. Selecione os pais;\n",
        "  2. Recombine para produzir os filhos;\n",
        "  3. Realize um processo de mutação;\n",
        "  4. Realize um procedimento de otimização em cada indivíduo.\n",
        "  5. Avalie os indivíduos\n",
        "  6. Selecione os indivíduos para a próxima geração\n",
        "5. Fim"
      ]
    },
    {
      "cell_type": "markdown",
      "metadata": {
        "id": "7y9ius6hsZga"
      },
      "source": [
        "<h3> Conceitos Gerais</h3>\n",
        "\n",
        "**Gene**: cidade representada pelas coordenadas x e y.\n",
        "\n",
        "**Indivíduo**: uma rota única que satisfaz as condições do problema.\n",
        "\n",
        "**Cromossomo**: indivíduo\n",
        "\n",
        "**População**: conjunto de indivíduos, ou seja, uma coleção de rotas possíveis.\n",
        "\n",
        "**Mutação**: uma forma de variar a população trocando a posição das cidades de uma rota.\n",
        "\n",
        "**Pais**: duas rotas que quando combinadas criam uma rota nova.\n",
        "\n",
        "**Fitness**: uma função que avalia as rotas/indivíduos dando uma nota a eles."
      ]
    },
    {
      "cell_type": "markdown",
      "metadata": {
        "id": "5kwBMlTyr_Bf"
      },
      "source": [
        "É necessário atribuir valores aos parâmetros envolvidos: \n",
        "\n",
        "- tamanho da população;\n",
        "- probabilidade de aplicação dos operadores genéticos; \n",
        "- argumentos dos operadores de seleção; \n",
        "- argumentos do critério de parada. "
      ]
    },
    {
      "cell_type": "markdown",
      "metadata": {
        "id": "nuYYmskAzDLJ"
      },
      "source": [
        "\n",
        "# Código"
      ]
    },
    {
      "cell_type": "code",
      "execution_count": null,
      "metadata": {
        "id": "0u1v8L-46eeU"
      },
      "outputs": [],
      "source": [
        "# Importando as blibliotecas que serão usadas no código\n",
        "\n",
        "import pandas as pd\n",
        "import numpy as np\n",
        "import random as rd\n",
        "import matplotlib.pyplot as plt\n",
        "import operator as op"
      ]
    },
    {
      "cell_type": "markdown",
      "metadata": {
        "id": "IMct26Vrnsqe"
      },
      "source": [
        "CLASSE CIDADE "
      ]
    },
    {
      "cell_type": "code",
      "execution_count": null,
      "metadata": {
        "id": "8N3POeaqi1Wf"
      },
      "outputs": [],
      "source": [
        "# - Classe que reresenta o Gene do nosso código\n",
        "# - Armazena a localização da cidade (coordenadas x e y)\n",
        "# - Calcula a distância entre a cidade instanciada e uma cidade destino \n",
        "\n",
        "class Cidade:\n",
        "    def __init__(self, x, y, numCidade):\n",
        "        self.x = x\n",
        "        self.y = y\n",
        "        self.cidade = numCidade\n",
        "    \n",
        "    # Calcula a distância euclidiana entre a cidade(self) e a cidade de destino\n",
        "    def distancia(self, destino):\n",
        "        return ((self.x - destino.x) ** 2 + (self.y - destino.y) ** 2) ** 0.5\n",
        "\n",
        "    def __repr__(self):\n",
        "        return f'C({self.cidade})'\n",
        "\n",
        "    def __str__(self):\n",
        "        return self.__repr__()"
      ]
    },
    {
      "cell_type": "markdown",
      "metadata": {
        "id": "KF0UO0rEnioq"
      },
      "source": [
        "INICIALIZAÇÃO\n",
        "\n",
        "Produz a primeira geração de indivíduos (população inicial), tomando elementos do espaço de busca."
      ]
    },
    {
      "cell_type": "code",
      "execution_count": null,
      "metadata": {
        "id": "hu6H2rawpj-Z"
      },
      "outputs": [],
      "source": [
        "def geraPopulacaoInicial(listaGenes, tamanhoPopulacao,  tamanhoCromossomo):\n",
        "    populacao = []\n",
        "    for i in range(tamanhoPopulacao):\n",
        "        individuo = rd.sample(listaGenes, tamanhoCromossomo)\n",
        "        populacao.append(individuo)\n",
        "    \n",
        "    return populacao"
      ]
    },
    {
      "cell_type": "markdown",
      "metadata": {
        "id": "Q2NpH3qcosVr"
      },
      "source": [
        "FUNÇÃO DE AVALIAÇÃO\n",
        "\n",
        "Atribui a cada elemento do espaço de busca um valor que será usado como medida relativa de desempenho. Representa a pressão do ambiente sobre o fenótipo dos indivíduos."
      ]
    },
    {
      "cell_type": "code",
      "execution_count": null,
      "metadata": {
        "id": "Ug5RF6RFvn8Z"
      },
      "outputs": [],
      "source": [
        "# - Função de aptidão (fitness) usada para encontrar a melhor solução.\n",
        "# - Possui um método que calcula o total das distâncias\n",
        "# - Possui um método que retorna o valor da aptidão de acordo com o valor total das distâncias.\n",
        "# - Neste trecho de códigos nós queremos minimizar a distância, então quanto maior o fitness melhor o score. \n",
        "# - Isso porque estamos tratando o fitness como inversamente proporcional ao tamanho da rota.\n",
        "\n",
        "# Calcula a aptidao das rotas\n",
        "class Fitness:\n",
        "    def __init__(self, rota):\n",
        "        self.rota = rota      # guarda uma referência da rota analizada\n",
        "       \n",
        "    def _distanciaRota(self):\n",
        "        \n",
        "        distanciaCaminho = 0\n",
        "        for i in range(0, len(self.rota)):\n",
        "            origem = self.rota[i]\n",
        "            destino = None\n",
        "                \n",
        "            # verifica se a rota termina na cidade em que começou\n",
        "            # caso não seja o último nó, adiciona a próxima \"cidade\" a ser visitada\n",
        "            if i + 1 < len(self.rota):\n",
        "                destino = self.rota[i + 1]\n",
        "            # caso contrário, é o último nó e atribui o primeiro nó visitado\n",
        "            else:\n",
        "                destino = self.rota[0]\n",
        "                \n",
        "            # calcula a distância entre a cidade inicial e a próxima \n",
        "            distanciaCaminho += origem.distancia(destino)\n",
        "        return distanciaCaminho\n",
        "    \n",
        "    # inverte o valor da distancia para avaliação.\n",
        "    # Quanto menor a distância melhor o resultado da avaliação \n",
        "    def fitnessRota(self):\n",
        "        fitness = 1 / float(self._distanciaRota())\n",
        "        return fitness"
      ]
    },
    {
      "cell_type": "markdown",
      "metadata": {
        "id": "bWGe-W24rU_m"
      },
      "source": [
        "AVALIAÇÃO DA POPULAÇÃO:\n",
        "\n",
        "Os indivíduos são avaliados aqui.\n",
        "\n",
        "Processo de maximização -- coloca no topo os indivíduos com uma melhor avaliação."
      ]
    },
    {
      "cell_type": "code",
      "execution_count": null,
      "metadata": {
        "id": "uJpC7b1Htmoo"
      },
      "outputs": [],
      "source": [
        "def avalia(populacao):\n",
        "    resultadosAptidao = {}\n",
        "    for i in range(len(populacao)):\n",
        "        resultadosAptidao[i] = Fitness(populacao[i]).fitnessRota()\n",
        "    # ordena as rotas pelo valor da função de avaliação do maior para o menor\n",
        "    return sorted(resultadosAptidao.items(), key=op.itemgetter(1), reverse = True)"
      ]
    },
    {
      "cell_type": "markdown",
      "metadata": {
        "id": "rRgL0HWX88AS"
      },
      "source": [
        "SELEÇÂO DOS PAIS\n",
        "\n",
        "A função de seleção esolhe os pais que serão usados na reprodução para gerar a nova população.\n"
      ]
    },
    {
      "cell_type": "code",
      "execution_count": null,
      "metadata": {
        "id": "-aEmYVUf9D2W"
      },
      "outputs": [],
      "source": [
        "# Seleção elitista\n",
        "# Função de seleção recebe como parâmetro a saída da função avaliaIndividuos para determinar quais rotas manter\n",
        "\n",
        "def seleciona(populacao, populacaoAvaliada, tamanhoPopulacao, tamanhoElite):\n",
        "    selecionados = []\n",
        "\n",
        "    # Cálculo de peso relativo de aptidão para cada indivíduo\n",
        "    df = pd.DataFrame(np.array(populacaoAvaliada), columns=[\"index\", \"fitness\"])\n",
        "    df['soma_acumulada'] = df.fitness.cumsum()\n",
        "    df['porcentagem_acumulada'] = 100 * df.soma_acumulada / df.fitness.sum()\n",
        "    \n",
        "    # Adição dos melhores\n",
        "    for i in range(tamanhoElite):\n",
        "        selecionados.append(populacao[populacaoAvaliada[i][0]])\n",
        "    \n",
        "    # seleciona o restante dos indivíduos de acordo com uma probabilidade\n",
        "    for i in range(tamanhoPopulacao - tamanhoElite):\n",
        "        p = 100 * rd.random()\n",
        "        for k in range(len(populacao)):\n",
        "            if p <= df.iat[k, 3]:\n",
        "                selecionados.append(populacao[populacaoAvaliada[k][0]])\n",
        "                break\n",
        "    return selecionados"
      ]
    },
    {
      "cell_type": "markdown",
      "metadata": {
        "id": "XJ6z8j3UrMsL"
      },
      "source": [
        "OPERADORES GENÉTICOS:\n",
        "\n",
        "Implementam o mecanismo de introdução de variabilidade aleatória no genótipo da população."
      ]
    },
    {
      "cell_type": "markdown",
      "metadata": {
        "id": "jvt9wd23Ap1X"
      },
      "source": [
        "Operadores de Variação de Rota -- Mutação"
      ]
    },
    {
      "cell_type": "code",
      "execution_count": null,
      "metadata": {
        "id": "SPLAS6sGUno7"
      },
      "outputs": [],
      "source": [
        "def operadorTroca(individuo):\n",
        "    geneA = rd.randint(0, len(individuo)-1)\n",
        "    geneB = rd.randint(0, len(individuo)-1)\n",
        "\n",
        "    ind = individuo[:]\n",
        "\n",
        "    while geneA == geneB:\n",
        "        geneB = rd.randint(0, len(individuo)-1)\n",
        "\n",
        "    ind[geneA], ind[geneB] = ind[geneB], ind[geneA]\n",
        "\n",
        "    return ind"
      ]
    },
    {
      "cell_type": "code",
      "execution_count": null,
      "metadata": {
        "id": "6_GgiFoVJSk2"
      },
      "outputs": [],
      "source": [
        "def operadorVizinhoMaisProximo(individuo):\n",
        "    pass"
      ]
    },
    {
      "cell_type": "markdown",
      "metadata": {
        "id": "edqE_FqrNRF-"
      },
      "source": [
        "Operador de Recombinação\n",
        "\n",
        "O operador escolhido foi o Partially Matched Crossover (PMX) que pega um intervalo do pai 1 e \"copia\" para o filho nas mesmas posições, e o restante dos genes do filho são preenchidos pelos genes do pai 2 que não foram herdados do pai 1.\n"
      ]
    },
    {
      "cell_type": "code",
      "execution_count": null,
      "metadata": {
        "id": "VM5_0EzMN-9t"
      },
      "outputs": [],
      "source": [
        "# Realiza o cruzamento de dois pais gerando dois novos indivíduos \n",
        "\n",
        "def cruzamento(populacao, pai1, pai2, tamanhoCromossomo):\n",
        "    # ponto de cruzamento\n",
        "    cruzamento = round(1 + (tamanhoCromossomo - 2) * rd.uniform(0,1))\n",
        "      \n",
        "    gene11 = populacao[pai1][0:cruzamento]\n",
        "    gene12 = populacao[pai1][cruzamento:tamanhoCromossomo]\n",
        "      \n",
        "    gene21 = [gene for gene in populacao[pai2][:] if gene not in gene12]\n",
        "    gene22 = [gene for gene in populacao[pai2][:] if gene not in gene11]\n",
        "        \n",
        "    filho1 = gene11 + gene22\n",
        "    filho2 = gene21 + gene12\n",
        "\n",
        "    return (filho1, filho2)"
      ]
    },
    {
      "cell_type": "markdown",
      "metadata": {
        "id": "a45blha_HQwj"
      },
      "source": [
        "Criação dos filhos\n",
        "\n",
        "Criação da próxima geração com o processo de crossover."
      ]
    },
    {
      "cell_type": "code",
      "execution_count": null,
      "metadata": {
        "id": "9FQaX5iz1qpV"
      },
      "outputs": [],
      "source": [
        "# Seleciona dois pais para a geração de dois novos indivíduos para juntar à população \n",
        "\n",
        "def selecaoPaisRoleta(probabilidades):\n",
        "    # seleção do pai 1\n",
        "    roleta = rd.uniform(0,1)\n",
        "    i = 0\n",
        "    while roleta >  probabilidades[i]:\n",
        "        i += 1\n",
        "    pai1 = i \n",
        "    \n",
        "    # seleção do pai 2\n",
        "    roleta = rd.uniform(0,1)\n",
        "    i = 0\n",
        "    while roleta > probabilidades[i]:\n",
        "        i += 1\n",
        "    pai2 = i \n",
        "    \n",
        "    # garante que os pais são diferentes \n",
        "    while pai1 == pai2:\n",
        "        roleta = rd.uniform(0,1)\n",
        "        i = 0\n",
        "        while roleta > probabilidades[i]:\n",
        "            i += 1\n",
        "        pai2 = i\n",
        "    return (pai1, pai2)"
      ]
    },
    {
      "cell_type": "code",
      "source": [
        "# Realiza a geração de novos indivíduos (crossover) utilizando o método da roleta \n",
        "# Faz uso de funções auxiliares \n",
        "\n",
        "def geraNovosIndividuos(populacao, tamanhoPopulacao, tamanhoCromossomo, probabilidadeCruzamento):\n",
        "    \n",
        "    novosIndividuos = []\n",
        "\n",
        "    # Calcula e armazena o fitness de cada uma das rotas/indivíduos da população \n",
        "    aptidoes = np.zeros(tamanhoPopulacao)\n",
        "    for i in range(tamanhoPopulacao):\n",
        "        aptidoes[i] = Fitness(populacao[i]).fitnessRota()\n",
        "\n",
        "    probabilidades = np.zeros(tamanhoPopulacao)\n",
        "\n",
        "    for i in range(tamanhoPopulacao):\n",
        "        # Cria a roleta com a probabilidade de cada indivíduo\n",
        "        for i in range(tamanhoPopulacao):\n",
        "            if i == 0:\n",
        "                probabilidades[i] = (1 / aptidoes.sum()) * aptidoes[i]\n",
        "            else:\n",
        "                probabilidades[i] = (1 / aptidoes.sum()) * aptidoes[i] + probabilidades[i-1]\n",
        "    \n",
        "        # Sortea os pais de acordo com a probabilidade definida \n",
        "        pai1, pai2 = selecaoPaisRoleta(probabilidades)\n",
        "\n",
        "        # Operação de Cruzamento para gerar novos indivíduos \n",
        "        if probabilidadeCruzamento > rd.uniform(0,1):\n",
        "            filho1, filho2 = cruzamento(populacao, pai1, pai2, tamanhoCromossomo)\n",
        "            novosIndividuos.append(filho1)\n",
        "            novosIndividuos.append(filho2)\n",
        "\n",
        "    return novosIndividuos"
      ],
      "metadata": {
        "id": "6XBT6l4RNu2x"
      },
      "execution_count": null,
      "outputs": []
    },
    {
      "cell_type": "markdown",
      "metadata": {
        "id": "nWvmnvC-Sb8P"
      },
      "source": [
        "MUTAÇÃO\n",
        "\n",
        "A população sofre o processo de mutação. "
      ]
    },
    {
      "cell_type": "code",
      "source": [
        "# Aplica o processo de mutação na população atual + os novos indivíduos que foram criados \n",
        "\n",
        "def mutaPopulacao(populacao, filhos, tamanhoCromossomo, probabilidadeMutacao):\n",
        "    # Junta a população atual com os novos indivíduos \n",
        "    pool = populacao + filhos\n",
        "\n",
        "    for i in range(len(pool)):\n",
        "        # Verifica se o indivíduo sofrerá ou não mutação \n",
        "        if probabilidadeMutacao > rd.uniform(0,1):\n",
        "            # Caso positivo um novo indivíduo é inserido na população \n",
        "            pool.append(operadorTroca(pool[i]))\n",
        "    return pool"
      ],
      "metadata": {
        "id": "aNsMdkBOOXvX"
      },
      "execution_count": null,
      "outputs": []
    },
    {
      "cell_type": "markdown",
      "metadata": {
        "id": "Zrwjsw8vxflt"
      },
      "source": [
        "OTIMIZAÇÃO\n",
        "\n",
        "Busca Local\n",
        "\n",
        "    Função SubidaDeEncosta(estadoInicial, tamPasso)\n",
        "        estadoCorrente = estadoInicial\n",
        "        REPITA\n",
        "            vizinhos <-- CriaVizinhos(estadoCorrente, tamPasso)\n",
        "            estadoSucessor <-- NULO\n",
        "            estadoSucessorAval <-- -INF\n",
        "\n",
        "            PARA todo vizinho em vizinhos FAÇA\n",
        "                SE Avaliacao(vizinho) > estadoSucessorAval ENTAO\n",
        "                    estadoSucessor <-- vizinho\n",
        "                    estadoSucessorAval <-- Avaliacao(vizinho)\n",
        "                FIM_SE\n",
        "            FIM_PARA\n",
        "\n",
        "            SE estadoSucessorAval <= Avaliacao(estadoCorrente) ENTAO\n",
        "                RETORNA estadoCorrente\n",
        "            FIM_SE\n",
        "\n",
        "            estadoCorrente <-- estadoSucessor\n",
        "        FIM_REPITA\n"
      ]
    },
    {
      "cell_type": "code",
      "source": [
        "def criaVizinhos(individuo, total):\n",
        "    vizinhos = []\n",
        "    for i in range(total):\n",
        "        vizinhos.append(operadorTroca(individuo)) # seleciona vizinhos com avaliações próximas\n",
        "    return vizinhos\n",
        "\n",
        "\n",
        "def subidaDeEncosta(estadoInicial, totalPassos, iteracoes):\n",
        "    estadoCorrente = estadoInicial\n",
        "    for i in range(iteracoes):\n",
        "        vizinhos = criaVizinhos(estadoInicial, totalPassos)\n",
        "        estadoSucessor = []\n",
        "        estadoSucessorAvaliacao = 0    # problema não aceita avaliação negativa\n",
        "\n",
        "        estadoSucessor[:] = vizinhos[avalia(vizinhos)[0][0]]\n",
        "        estadoSucessorAvaliacao = avalia(vizinhos)[0][1]\n",
        "\n",
        "        if estadoSucessorAvaliacao <= Fitness(estadoCorrente).fitnessRota():\n",
        "            continue\n",
        "        estadoCorrente = estadoSucessor\n",
        "    return estadoCorrente if Fitness(estadoCorrente).fitnessRota() > Fitness(estadoInicial).fitnessRota() else estadoInicial\n",
        "\n",
        "\n",
        "def otimiza(populacao, tamanhoPopulacao, taxaOtimizacao, totalPassos, iteracoes):\n",
        "    otimizados = []\n",
        "    for i in range(tamanhoPopulacao):\n",
        "        probabilidade = rd.uniform(0,1)\n",
        "        if taxaOtimizacao > probabilidade:\n",
        "            otimizados.append(subidaDeEncosta(populacao[i], totalPassos, iteracoes))\n",
        "        else:\n",
        "            otimizados.append(populacao[i])\n",
        "    return otimizados"
      ],
      "metadata": {
        "id": "Bf12ypqfElFy"
      },
      "execution_count": null,
      "outputs": []
    },
    {
      "cell_type": "markdown",
      "source": [
        "Gráfico"
      ],
      "metadata": {
        "id": "yenxtnUtRVBB"
      }
    },
    {
      "cell_type": "code",
      "source": [
        "def desenhaGrafico(geneticoProgresso, geneticoMelhores, memeticoProgresso, memeticoMelhores):\n",
        "    fig, ax = plt.subplots()\n",
        "\n",
        "    ax.plot(geneticoProgresso, label='Algoritmo Genético')\n",
        "    ax.plot(memeticoProgresso, label='Algoritmo Memético')\n",
        "\n",
        "    ax.set(xlabel='Geração', ylabel='Distância', title='Problema do Caixeiro Viajante')\n",
        "\n",
        "    ax.plot(avalia(geneticoMelhores)[0][0], (1/avalia(geneticoMelhores)[0][1]), 'o', color='red', label='Valor Mímino')\n",
        "    ax.plot(avalia(memeticoMelhores)[0][0], (1/avalia(memeticoMelhores)[0][1]), 'o', color='red')\n",
        "\n",
        "    ax.legend()\n",
        "\n",
        "    plt.show()"
      ],
      "metadata": {
        "id": "OEvJ04UpaRc6"
      },
      "execution_count": null,
      "outputs": []
    },
    {
      "cell_type": "code",
      "source": [
        "def mostraMelhorResultado(melhores):\n",
        "    print(f'Distância: {1/Fitness(melhores[avalia(melhores)[0][0]]).fitnessRota():.3f}\\n\\nCidades: ', end='')\n",
        "    indice = [i for i in range(len(melhores[0])) if melhores[avalia(melhores)[0][0]][i].cidade == 1][0]\n",
        "    print(melhores[avalia(melhores)[0][0]][indice:] + melhores[avalia(melhores)[0][0]][0:indice])"
      ],
      "metadata": {
        "id": "NLzXuKQwRtE6"
      },
      "execution_count": null,
      "outputs": []
    },
    {
      "cell_type": "markdown",
      "metadata": {
        "id": "C3dCjt7jz7I9"
      },
      "source": [
        "# Execução do Algoritmo"
      ]
    },
    {
      "cell_type": "markdown",
      "source": [
        "ALGORITMO GENÉTICO"
      ],
      "metadata": {
        "id": "qpvq8b0CQ4j8"
      }
    },
    {
      "cell_type": "code",
      "execution_count": null,
      "metadata": {
        "id": "jjtNsRh1ym4a"
      },
      "outputs": [],
      "source": [
        "def AlgoritmoGenetico(listaGenes, tamanhoPopulacao, tamanhoCromossomo, probabilidadeCruzamento, probabilidadeMutacao, totalGeracoes, taxaElite):    \n",
        "    \n",
        "    melhores = []    \n",
        "    progresso = []\n",
        "\n",
        "    populacao = geraPopulacaoInicial(listaGenes, tamanhoPopulacao, tamanhoCromossomo)\n",
        "\n",
        "    print(f'Menor Distância da População Inicial: {(1 / avalia(populacao)[0][1]):.3f}')\n",
        "\n",
        "    for i in range(totalGeracoes):\n",
        "        filhos = geraNovosIndividuos(populacao, tamanhoPopulacao, tamanhoCromossomo, probabilidadeCruzamento)\n",
        "        populacaoModificada = mutaPopulacao(populacao, filhos, tamanhoCromossomo, probabilidadeMutacao)\n",
        "        populacaoAvaliada = avalia(populacaoModificada)\n",
        "        novaPopulacao = seleciona(populacaoModificada, populacaoAvaliada, tamanhoPopulacao, int(taxaElite * tamanhoPopulacao))\n",
        "        populacao = novaPopulacao \n",
        "\n",
        "        melhores.append(populacaoModificada[populacaoAvaliada[0][0]])\n",
        "        progresso.append(1 / avalia(populacao)[0][1])\n",
        "\n",
        "    print(f'Menor Distância da População Final: {(1 / avalia(populacao)[0][1]):.3f}')    \n",
        "    \n",
        "    return (progresso, melhores)"
      ]
    },
    {
      "cell_type": "markdown",
      "source": [
        "ALGORITMO MEMÉTICO"
      ],
      "metadata": {
        "id": "n3w-iye1Q-Ub"
      }
    },
    {
      "cell_type": "code",
      "source": [
        "def AlgoritmoMemetico(listaGenes, tamanhoPopulacao, tamanhoCromossomo, probabilidadeCruzamento, \n",
        "                      probabilidadeMutacao, totalGeracoes, taxaElite, taxaOtimizacao, totalPassos, iteracoes):    \n",
        "    \n",
        "    melhores = []    \n",
        "    progresso = []\n",
        "\n",
        "    populacao = geraPopulacaoInicial(listaGenes, tamanhoPopulacao, tamanhoCromossomo)\n",
        "    populacao = otimiza(populacao, tamanhoPopulacao, taxaOtimizacao, totalPassos, iteracoes)\n",
        "\n",
        "    print(f'Menor Distância da População Inicial: {(1 / avalia(populacao)[0][1]):.3f}')\n",
        "\n",
        "    for i in range(totalGeracoes):\n",
        "        filhos = geraNovosIndividuos(populacao, tamanhoPopulacao, tamanhoCromossomo, probabilidadeCruzamento)\n",
        "        populacaoModificada = mutaPopulacao(populacao, filhos, tamanhoCromossomo, probabilidadeMutacao)\n",
        "        populacaoAvaliada = avalia(populacaoModificada)\n",
        "        novaPopulacao = seleciona(populacaoModificada, populacaoAvaliada, tamanhoPopulacao, int(taxaElite * tamanhoPopulacao))\n",
        "        populacao = otimiza(novaPopulacao, tamanhoPopulacao, taxaOtimizacao, totalPassos, iteracoes)\n",
        "\n",
        "        melhores.append(populacao[avalia(populacao)[0][0]])\n",
        "        progresso.append(1 / avalia(populacao)[0][1])\n",
        "\n",
        "    print(f'Menor Distância da População Final: {(1 / avalia(populacao)[0][1]):.3f}')    \n",
        "\n",
        "    return (progresso, melhores)"
      ],
      "metadata": {
        "id": "W7QwymFnFcmI"
      },
      "execution_count": null,
      "outputs": []
    },
    {
      "cell_type": "markdown",
      "source": [
        "Variáveis e execução"
      ],
      "metadata": {
        "id": "rfqo0nKuRG12"
      }
    },
    {
      "cell_type": "code",
      "execution_count": null,
      "metadata": {
        "id": "vz8XsivOd82G"
      },
      "outputs": [],
      "source": [
        "coordenadas = [ \n",
        "    (6734,1453), (2233,  10), (5530,1424), (401,  841), (3082,1644), (7608,4458), (7573,3716), (7265,1268),\n",
        "    (6898,1885), (1112,2049), (5468,2606), (5989,2873), (4706,2674), (4612,2035), (6347,2683), (6107, 669), \n",
        "    (7611,5184), (7462,3590), (7732,4723), (5900,3561), (4483,3369), (6101,1110), (5199,2182), (1633,2809), \n",
        "    (4307,2322), (675, 1006), (7555,4819), (7541,3981), (3177, 756), (7352,4506), (7545,2801), (3245,3305), \n",
        "    (6426,3173), (4608,1198), (23,  2216), (7248,3779), (7762,4595), (7392,2244), (3484,2829), (6271,2135),\n",
        "    (4985, 140), (1916,1569), (7280,4899), (7509,3239), (10,  2676), (6807,2993), (5185,3258), (3023,1942) ]\n"
      ]
    },
    {
      "cell_type": "code",
      "source": [
        "cidades = []\n",
        "for i in range(len(coordenadas)):\n",
        "    cidades.append(Cidade(coordenadas[i][0],coordenadas[i][1], i+1))"
      ],
      "metadata": {
        "id": "naylgHNqZf4F"
      },
      "execution_count": null,
      "outputs": []
    },
    {
      "cell_type": "code",
      "source": [
        "probabilidadeCruzamento = 0.9\n",
        "probabilidadeMutacao = 0.15\n",
        "\n",
        "tamanhoCromossomo = len(cidades)\n",
        "tamanhoPopulacao = 100\n",
        "\n",
        "totalGeracoes = 50\n",
        "\n",
        "taxaElite = 0.1\n",
        "\n",
        "taxaOtimizacao = 0.9\n",
        "totalPassos = len(cidades)\n",
        "iteracoes = 5"
      ],
      "metadata": {
        "id": "TchEuZshaP4L"
      },
      "execution_count": null,
      "outputs": []
    },
    {
      "cell_type": "code",
      "source": [
        "print(\"Algoritmo genético:\")\n",
        "algGenProg50Ger, algGenMelh50Ger = AlgoritmoGenetico(cidades,tamanhoPopulacao,tamanhoCromossomo,probabilidadeCruzamento,probabilidadeMutacao,totalGeracoes,taxaElite)"
      ],
      "metadata": {
        "colab": {
          "base_uri": "https://localhost:8080/"
        },
        "id": "GdrDKsHzAqY-",
        "outputId": "6cecc879-81ad-424f-f053-0315e30d25c2"
      },
      "execution_count": null,
      "outputs": [
        {
          "output_type": "stream",
          "name": "stdout",
          "text": [
            "Algoritmo genético:\n",
            "Menor Distância da População Inicial: 133008.924\n",
            "Menor Distância da População Final: 67976.033\n"
          ]
        }
      ]
    },
    {
      "cell_type": "code",
      "source": [
        "print(\"Algoritmo Memético:\")\n",
        "algMemProg50Ger, algMemMelh50Ger = AlgoritmoMemetico(cidades, tamanhoPopulacao, tamanhoCromossomo, probabilidadeCruzamento, \n",
        "                                                       probabilidadeMutacao, totalGeracoes, taxaElite, taxaOtimizacao, totalPassos, iteracoes)"
      ],
      "metadata": {
        "colab": {
          "base_uri": "https://localhost:8080/"
        },
        "id": "Bw65il0HIiep",
        "outputId": "a2361ba4-74d8-405d-9300-629cf62cdbd1"
      },
      "execution_count": null,
      "outputs": [
        {
          "output_type": "stream",
          "name": "stdout",
          "text": [
            "Algoritmo Memético:\n",
            "Menor Distância da População Inicial: 119110.610\n",
            "Menor Distância da População Final: 39366.197\n"
          ]
        }
      ]
    },
    {
      "cell_type": "code",
      "source": [
        "desenhaGrafico(algGenProg50Ger, algGenMelh50Ger, algMemProg50Ger, algMemMelh50Ger)"
      ],
      "metadata": {
        "colab": {
          "base_uri": "https://localhost:8080/",
          "height": 472
        },
        "id": "tREg-kYmd12P",
        "outputId": "b6cbb33e-55c0-4f48-d108-a136b474101b"
      },
      "execution_count": null,
      "outputs": [
        {
          "output_type": "display_data",
          "data": {
            "text/plain": [
              "<Figure size 640x480 with 1 Axes>"
            ],
            "image/png": "[encoded data removed]"
          },
          "metadata": {}
        }
      ]
    },
    {
      "cell_type": "code",
      "source": [
        "probabilidadeCruzamento = 0.9\n",
        "probabilidadeMutacao = 0.15\n",
        "\n",
        "tamanhoCromossomo = len(cidades)\n",
        "tamanhoPopulacao = 100\n",
        "\n",
        "totalGeracoes = 100\n",
        "\n",
        "taxaElite = 0.1\n",
        "\n",
        "taxaOtimizacao = 0.9\n",
        "totalPassos = len(cidades)\n",
        "iteracoes = 5"
      ],
      "metadata": {
        "id": "Kz3Rq2BiKYOj"
      },
      "execution_count": null,
      "outputs": []
    },
    {
      "cell_type": "code",
      "source": [
        "print(\"Algoritmo genético:\")\n",
        "algGenProg100Ger, algGenMelh100Ger = AlgoritmoGenetico(cidades, tamanhoPopulacao, tamanhoCromossomo, probabilidadeCruzamento, probabilidadeMutacao, totalGeracoes, taxaElite)"
      ],
      "metadata": {
        "colab": {
          "base_uri": "https://localhost:8080/"
        },
        "id": "4kBoMWnGHvd4",
        "outputId": "b9c9f7a6-22e6-4d20-c8c3-78aef621f40a"
      },
      "execution_count": null,
      "outputs": [
        {
          "output_type": "stream",
          "name": "stdout",
          "text": [
            "Algoritmo genético:\n",
            "Menor Distância da População Inicial: 134003.525\n",
            "Menor Distância da População Final: 62044.904\n"
          ]
        }
      ]
    },
    {
      "cell_type": "code",
      "source": [
        "print(\"Algoritmo Memético:\")\n",
        "algMemProg100Ger, algMemMelh100Ger = AlgoritmoMemetico(cidades, tamanhoPopulacao, tamanhoCromossomo, probabilidadeCruzamento, \n",
        "                                                       probabilidadeMutacao, totalGeracoes, taxaElite, taxaOtimizacao, totalPassos, iteracoes)\n"
      ],
      "metadata": {
        "colab": {
          "base_uri": "https://localhost:8080/"
        },
        "id": "k7FpoUJmAu1S",
        "outputId": "6af133a6-2b76-43ed-f25c-21a781c725cf"
      },
      "execution_count": null,
      "outputs": [
        {
          "output_type": "stream",
          "name": "stdout",
          "text": [
            "Algoritmo Memético:\n",
            "Menor Distância da População Inicial: 119970.696\n",
            "Menor Distância da População Final: 39334.329\n"
          ]
        }
      ]
    },
    {
      "cell_type": "code",
      "source": [
        "desenhaGrafico(algGenProg100Ger, algGenMelh100Ger, algMemProg100Ger, algMemMelh100Ger)"
      ],
      "metadata": {
        "id": "tS6tBZ0De7gC",
        "colab": {
          "base_uri": "https://localhost:8080/",
          "height": 472
        },
        "outputId": "d334b8e5-007d-4b9f-f325-c21b997bffd2"
      },
      "execution_count": null,
      "outputs": [
        {
          "output_type": "display_data",
          "data": {
            "text/plain": [
              "<Figure size 640x480 with 1 Axes>"
            ],
            "image/png": "[encoded data removed]"
          },
          "metadata": {}
        }
      ]
    },
    {
      "cell_type": "code",
      "source": [
        "probabilidadeCruzamento = 0.9\n",
        "probabilidadeMutacao = 0.15\n",
        "\n",
        "tamanhoCromossomo = len(cidades)\n",
        "tamanhoPopulacao = 100\n",
        "\n",
        "totalGeracoes = 500\n",
        "\n",
        "taxaElite = 0.1\n",
        "\n",
        "taxaOtimizacao = 0.9\n",
        "totalPassos = len(cidades)\n",
        "iteracoes = 5"
      ],
      "metadata": {
        "id": "quuSm4lnMejb"
      },
      "execution_count": null,
      "outputs": []
    },
    {
      "cell_type": "code",
      "source": [
        "print(\"Algoritmo genético:\")\n",
        "algGenProg500Ger, algGenMelh500Ger = AlgoritmoGenetico(cidades, tamanhoPopulacao, tamanhoCromossomo, probabilidadeCruzamento, probabilidadeMutacao, totalGeracoes, taxaElite)"
      ],
      "metadata": {
        "colab": {
          "base_uri": "https://localhost:8080/"
        },
        "id": "BIGXUXYkM6AW",
        "outputId": "0effd178-9d0c-4369-a0ac-ea132cef0574"
      },
      "execution_count": null,
      "outputs": [
        {
          "output_type": "stream",
          "name": "stdout",
          "text": [
            "Algoritmo genético:\n",
            "Menor Distância da População Inicial: 122459.625\n",
            "Menor Distância da População Final: 37352.972\n"
          ]
        }
      ]
    },
    {
      "cell_type": "code",
      "source": [
        "# leva 20+ min para finalizar\n",
        "\n",
        "print(\"Algoritmo Memético:\")\n",
        "algMemProg500Ger, algMemMelh500Ger = AlgoritmoMemetico(cidades, tamanhoPopulacao, tamanhoCromossomo, probabilidadeCruzamento, \n",
        "                                                       probabilidadeMutacao, totalGeracoes, taxaElite, taxaOtimizacao, totalPassos, iteracoes)"
      ],
      "metadata": {
        "colab": {
          "base_uri": "https://localhost:8080/"
        },
        "id": "xzvSeFgwM-Aq",
        "outputId": "8dd6c9ad-d041-4651-f344-54ea347ddfbc"
      },
      "execution_count": null,
      "outputs": [
        {
          "output_type": "stream",
          "name": "stdout",
          "text": [
            "Algoritmo Memético:\n",
            "Menor Distância da População Inicial: 120887.470\n",
            "Menor Distância da População Final: 34013.815\n"
          ]
        }
      ]
    },
    {
      "cell_type": "code",
      "source": [
        "desenhaGrafico(algGenProg500Ger, algGenMelh500Ger, algMemProg500Ger, algMemMelh500Ger)"
      ],
      "metadata": {
        "colab": {
          "base_uri": "https://localhost:8080/",
          "height": 472
        },
        "id": "8ZWxQ3NfU3I5",
        "outputId": "ee400952-3c95-4c88-beeb-bfaef034cb50"
      },
      "execution_count": null,
      "outputs": [
        {
          "output_type": "display_data",
          "data": {
            "text/plain": [
              "<Figure size 640x480 with 1 Axes>"
            ],
            "image/png": "[encoded data removed]"
          },
          "metadata": {}
        }
      ]
    },
    {
      "cell_type": "markdown",
      "source": [
        "RESULTADOS"
      ],
      "metadata": {
        "id": "5fxlN4i3QdUV"
      }
    },
    {
      "cell_type": "markdown",
      "source": [
        "Algoritmo Genético"
      ],
      "metadata": {
        "id": "3_CuF1uXSSEW"
      }
    },
    {
      "cell_type": "code",
      "source": [
        "print('Melhor Resultado Algoritmo Genético com 50 gerações\\n')\n",
        "mostraMelhorResultado(algGenMelh50Ger)"
      ],
      "metadata": {
        "colab": {
          "base_uri": "https://localhost:8080/"
        },
        "id": "YVo8TUAzOe-f",
        "outputId": "7dafb8b2-8b90-4bc2-ec4b-297e1513e259"
      },
      "execution_count": null,
      "outputs": [
        {
          "output_type": "stream",
          "name": "stdout",
          "text": [
            "Melhor Resultado Algoritmo Genético com 50 gerações\n",
            "\n",
            "Distância: 67976.033\n",
            "\n",
            "Cidades: [C(1), C(9), C(17), C(27), C(30), C(43), C(34), C(41), C(16), C(38), C(7), C(6), C(19), C(37), C(44), C(15), C(20), C(33), C(12), C(24), C(35), C(10), C(25), C(47), C(46), C(39), C(32), C(21), C(13), C(3), C(28), C(36), C(18), C(31), C(40), C(11), C(23), C(14), C(2), C(42), C(45), C(4), C(26), C(29), C(5), C(48), C(22), C(8)]\n"
          ]
        }
      ]
    },
    {
      "cell_type": "code",
      "source": [
        "print('Melhor Resultado Algoritmo Genético com 100 gerações\\n')\n",
        "mostraMelhorResultado(algGenMelh100Ger)"
      ],
      "metadata": {
        "colab": {
          "base_uri": "https://localhost:8080/"
        },
        "id": "8Kgfq1I9OrDT",
        "outputId": "179be45d-b21d-4aac-ae1f-8d132f6c0c83"
      },
      "execution_count": null,
      "outputs": [
        {
          "output_type": "stream",
          "name": "stdout",
          "text": [
            "Melhor Resultado Algoritmo Genético com 100 gerações\n",
            "\n",
            "Distância: 62044.904\n",
            "\n",
            "Cidades: [C(1), C(22), C(12), C(11), C(29), C(2), C(26), C(4), C(45), C(35), C(10), C(48), C(8), C(38), C(9), C(40), C(34), C(5), C(39), C(25), C(16), C(41), C(3), C(23), C(15), C(20), C(47), C(44), C(19), C(27), C(21), C(14), C(42), C(24), C(32), C(13), C(33), C(46), C(18), C(36), C(37), C(17), C(6), C(30), C(43), C(28), C(7), C(31)]\n"
          ]
        }
      ]
    },
    {
      "cell_type": "code",
      "source": [
        "print('Melhor Resultado Algoritmo Genético com 500 gerações\\n')\n",
        "mostraMelhorResultado(algGenMelh500Ger)"
      ],
      "metadata": {
        "colab": {
          "base_uri": "https://localhost:8080/"
        },
        "id": "LCSULsEIPAQf",
        "outputId": "cbe77b80-8d57-4de2-8ddc-daa924a3e1ea"
      },
      "execution_count": null,
      "outputs": [
        {
          "output_type": "stream",
          "name": "stdout",
          "text": [
            "Melhor Resultado Algoritmo Genético com 500 gerações\n",
            "\n",
            "Distância: 37352.972\n",
            "\n",
            "Cidades: [C(1), C(22), C(16), C(41), C(29), C(2), C(26), C(4), C(35), C(45), C(10), C(24), C(42), C(5), C(48), C(39), C(32), C(21), C(20), C(43), C(17), C(27), C(19), C(37), C(6), C(30), C(28), C(46), C(15), C(40), C(12), C(11), C(23), C(3), C(34), C(14), C(25), C(13), C(47), C(33), C(36), C(7), C(18), C(44), C(31), C(38), C(9), C(8)]\n"
          ]
        }
      ]
    },
    {
      "cell_type": "markdown",
      "source": [
        "Algoritmo Memético"
      ],
      "metadata": {
        "id": "o8F01e7cSW5Z"
      }
    },
    {
      "cell_type": "code",
      "source": [
        "print('Melhor Resultado Algoritmo Memético com 50 gerações\\n')\n",
        "mostraMelhorResultado(algMemMelh50Ger)"
      ],
      "metadata": {
        "colab": {
          "base_uri": "https://localhost:8080/"
        },
        "id": "KWjZBOTFM_ln",
        "outputId": "176fd3f0-0404-47f1-ea31-5840f3a035d5"
      },
      "execution_count": null,
      "outputs": [
        {
          "output_type": "stream",
          "name": "stdout",
          "text": [
            "Melhor Resultado Algoritmo Memético com 50 gerações\n",
            "\n",
            "Distância: 39366.197\n",
            "\n",
            "Cidades: [C(1), C(16), C(22), C(3), C(23), C(40), C(9), C(31), C(44), C(18), C(7), C(28), C(30), C(36), C(46), C(33), C(15), C(12), C(11), C(47), C(13), C(25), C(14), C(34), C(41), C(29), C(2), C(42), C(26), C(4), C(35), C(45), C(10), C(24), C(5), C(48), C(39), C(32), C(21), C(20), C(43), C(17), C(27), C(19), C(37), C(6), C(38), C(8)]\n"
          ]
        }
      ]
    },
    {
      "cell_type": "code",
      "source": [
        "print('Melhor Resultado Algoritmo Memético com 100 gerações\\n')\n",
        "mostraMelhorResultado(algMemMelh100Ger)"
      ],
      "metadata": {
        "colab": {
          "base_uri": "https://localhost:8080/"
        },
        "id": "uA-U1hx0O1Xq",
        "outputId": "59c5bbdb-1572-47bd-db8d-5bf6852a149e"
      },
      "execution_count": null,
      "outputs": [
        {
          "output_type": "stream",
          "name": "stdout",
          "text": [
            "Melhor Resultado Algoritmo Memético com 100 gerações\n",
            "\n",
            "Distância: 39334.329\n",
            "\n",
            "Cidades: [C(1), C(22), C(16), C(41), C(2), C(29), C(25), C(14), C(34), C(3), C(40), C(9), C(15), C(33), C(20), C(47), C(48), C(5), C(42), C(10), C(26), C(4), C(35), C(45), C(24), C(32), C(39), C(21), C(13), C(23), C(11), C(12), C(46), C(44), C(18), C(7), C(28), C(6), C(37), C(19), C(27), C(17), C(43), C(30), C(36), C(31), C(38), C(8)]\n"
          ]
        }
      ]
    },
    {
      "cell_type": "code",
      "source": [
        "print('Melhor Resultado Algoritmo Memético com 500 gerações\\n')\n",
        "mostraMelhorResultado(algMemMelh500Ger)"
      ],
      "metadata": {
        "colab": {
          "base_uri": "https://localhost:8080/"
        },
        "id": "dxHW28i0SBsw",
        "outputId": "dc637a29-dd67-4ff8-b9f0-f8c719adf99b"
      },
      "execution_count": null,
      "outputs": [
        {
          "output_type": "stream",
          "name": "stdout",
          "text": [
            "Melhor Resultado Algoritmo Memético com 500 gerações\n",
            "\n",
            "Distância: 34013.815\n",
            "\n",
            "Cidades: [C(1), C(8), C(38), C(31), C(44), C(18), C(7), C(28), C(6), C(37), C(19), C(27), C(17), C(43), C(30), C(36), C(20), C(47), C(21), C(32), C(39), C(48), C(5), C(42), C(24), C(10), C(45), C(35), C(4), C(26), C(2), C(29), C(34), C(41), C(16), C(22), C(3), C(23), C(14), C(25), C(13), C(11), C(12), C(33), C(46), C(15), C(40), C(9)]\n"
          ]
        }
      ]
    }
  ],
  "metadata": {
    "colab": {
      "provenance": [],
      "authorship_tag": "ABX9TyP4aEm8yW/JSWmeVPgGSYEk",
      "include_colab_link": true
    },
    "kernelspec": {
      "display_name": "Python 3",
      "name": "python3"
    },
    "language_info": {
      "name": "python"
    }
  },
  "nbformat": 4,
  "nbformat_minor": 0
}